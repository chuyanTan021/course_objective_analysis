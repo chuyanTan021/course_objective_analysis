{
 "cells": [
  {
   "cell_type": "markdown",
   "metadata": {
    "colab_type": "text",
    "id": "9QQ0q47JvgwX"
   },
   "source": [
    "# Random Forest Example - simplified from its original\n",
    "\n",
    "Used and further adapted by: Elizabeth Barnes in ATS 655 at Colorado State University\n",
    "\n",
    "Original created by: Aaron Hill and Wei-Ting Hsiao (Dept. of Atmospheric Science, Colorado State University), January 2020\n",
    "\n",
    "Example adapted from Will Koehrsen: https://towardsdatascience.com/random-forest-in-python-24d0893d51c0\n",
    "\n",
    "***"
   ]
  },
  {
   "cell_type": "markdown",
   "metadata": {
    "colab_type": "text",
    "id": "7V55BtYqA52O"
   },
   "source": [
    "Lets import some libraries we will need throughout this tutorial:\n",
    "\n"
   ]
  },
  {
   "cell_type": "code",
   "execution_count": 1,
   "metadata": {
    "colab": {},
    "colab_type": "code",
    "id": "TLuuXcBoA5TN"
   },
   "outputs": [
    {
     "name": "stdout",
     "output_type": "stream",
     "text": [
      "IN_COLAB = False\n"
     ]
    }
   ],
   "source": [
    "# Pandas is used for data manipulation\n",
    "import pandas as pd\n",
    "\n",
    "# Use numpy to convert to arrays\n",
    "import numpy as np\n",
    "\n",
    "# Using Skicit-learn to split data into training and testing sets\n",
    "from sklearn.model_selection import train_test_split\n",
    "\n",
    "# Import the model we are using\n",
    "from sklearn.ensemble import RandomForestRegressor\n",
    "\n",
    "# Time formatter\n",
    "import datetime\n",
    "\n",
    "# Import tools needed for visualization\n",
    "from sklearn.tree import export_graphviz\n",
    "import pydot\n",
    "import matplotlib.pyplot as plt\n",
    "%matplotlib inline\n",
    "\n",
    "# Permutation importance method from sklearn\n",
    "from sklearn.inspection import permutation_importance\n",
    "\n",
    "# specify whether running on Colab or locally\n",
    "try:\n",
    "    import google.colab\n",
    "    IN_COLAB = True\n",
    "except:\n",
    "    IN_COLAB = False\n",
    "print('IN_COLAB = ' + str(IN_COLAB))"
   ]
  },
  {
   "cell_type": "code",
   "execution_count": 2,
   "metadata": {},
   "outputs": [],
   "source": [
    "# Predefined functions for later use\n",
    "\n",
    "def plot_time_series(features, feature_list, labels, val_features, predictions):\n",
    "    \n",
    "    # Use datetime for creating date objects for plotting\n",
    "    # Dates of training values\n",
    "    months = features[:, feature_list.index('MONTH')]\n",
    "    days = features[:, feature_list.index('DAY')]\n",
    "    years = features[:, feature_list.index('YEAR')]\n",
    "    \n",
    "    # List and then convert to datetime object\n",
    "    dates = [str(int(year)) + '-' + str(int(month)) + '-' + str(int(day)) for year, month, day in zip(years, months, days)]\n",
    "    dates = [datetime.datetime.strptime(date, '%Y-%m-%d') for date in dates]\n",
    "    \n",
    "    # Dataframe with true values and dates\n",
    "    true_data = pd.DataFrame(data = {'date': dates, 'TMAX': labels})\n",
    "    \n",
    "    # Dates of predictions\n",
    "    months = val_features[:, feature_list.index('MONTH')]\n",
    "    days = val_features[:, feature_list.index('DAY')]\n",
    "    years = val_features[:, feature_list.index('YEAR')]\n",
    "    \n",
    "    # Column of dates\n",
    "    test_dates = [str(int(year)) + '-' + str(int(month)) + '-' + str(int(day)) for year, month, day in zip(years, months, days)]\n",
    "    \n",
    "    # Convert to datetime objects\n",
    "    test_dates = [datetime.datetime.strptime(date, '%Y-%m-%d') for date in test_dates]\n",
    "    \n",
    "    # Dataframe with predictions and dates\n",
    "    predictions_data = pd.DataFrame(data = {'date': test_dates, 'prediction': predictions})\n",
    "    \n",
    "    #------------------------------------------------\n",
    "    # plot the predictions\n",
    "    plt.plot(true_data['date'], true_data['TMAX'], 'b-', label = 'actual TMAX')\n",
    "    plt.plot(predictions_data['date'], predictions_data['prediction'], 'ro', label = 'prediction of validation set')\n",
    "    plt.xticks(rotation = '60'); \n",
    "    plt.legend()\n",
    "    plt.xlabel('Date'); plt.ylabel('Maximum Temperature (F)'); plt.title('Actual and Predicted Values');"
   ]
  },
  {
   "cell_type": "markdown",
   "metadata": {
    "colab_type": "text",
    "id": "pq0ubEIlhJ4Y"
   },
   "source": [
    "# 1. Data Preparation"
   ]
  },
  {
   "cell_type": "markdown",
   "metadata": {
    "colab_type": "text",
    "id": "8TV70rZ43-A6"
   },
   "source": [
    "### 1.1 Data overview"
   ]
  },
  {
   "cell_type": "markdown",
   "metadata": {
    "colab_type": "text",
    "id": "e_adDXBpYzKN"
   },
   "source": [
    "We have stored a .csv file on a CSU drive, accessible via URL. This will be the basis for our tutorial. This file contains Fort Collins weather data from 2018, and we will use these data to predict the high temperature for a given day with a random forest regression model.  "
   ]
  },
  {
   "cell_type": "code",
   "execution_count": 3,
   "metadata": {
    "colab": {},
    "colab_type": "code",
    "id": "PlulN6WnZ_K8"
   },
   "outputs": [],
   "source": [
    "# Read in data from url\n",
    "url = \"http://schumacher.atmos.colostate.edu/hilla/temps_FC.csv\"\n",
    "features = pd.read_csv(url)\n",
    "features = features.drop('TMAX_BD', axis = 1)"
   ]
  },
  {
   "cell_type": "markdown",
   "metadata": {
    "colab_type": "text",
    "id": "OqVhzCoFB2wx"
   },
   "source": [
    "Lets look at our data to see what we are working with"
   ]
  },
  {
   "cell_type": "code",
   "execution_count": 4,
   "metadata": {
    "colab": {
     "base_uri": "https://localhost:8080/",
     "height": 207
    },
    "colab_type": "code",
    "executionInfo": {
     "elapsed": 1477,
     "status": "ok",
     "timestamp": 1581354303082,
     "user": {
      "displayName": "Aaron Hill",
      "photoUrl": "https://lh3.googleusercontent.com/a-/AAuE7mBOiK0lDpxr-Hmn-7HLxfm-CEk8-5rap_IAkUqo=s64",
      "userId": "08603993931866878240"
     },
     "user_tz": 420
    },
    "id": "ibJ9lUMQB8le",
    "outputId": "1a57d539-40f7-4079-db10-230bc88dbd8e"
   },
   "outputs": [
    {
     "name": "stdout",
     "output_type": "stream",
     "text": [
      "The shape of our features is: (365, 10)\n"
     ]
    },
    {
     "data": {
      "text/html": [
       "<div>\n",
       "<style scoped>\n",
       "    .dataframe tbody tr th:only-of-type {\n",
       "        vertical-align: middle;\n",
       "    }\n",
       "\n",
       "    .dataframe tbody tr th {\n",
       "        vertical-align: top;\n",
       "    }\n",
       "\n",
       "    .dataframe thead th {\n",
       "        text-align: right;\n",
       "    }\n",
       "</style>\n",
       "<table border=\"1\" class=\"dataframe\">\n",
       "  <thead>\n",
       "    <tr style=\"text-align: right;\">\n",
       "      <th></th>\n",
       "      <th>YEAR</th>\n",
       "      <th>MONTH</th>\n",
       "      <th>DAY</th>\n",
       "      <th>TMAX</th>\n",
       "      <th>TMIN</th>\n",
       "      <th>TMAX_1d</th>\n",
       "      <th>TMAX_2d</th>\n",
       "      <th>TMAX_SF</th>\n",
       "      <th>PRCP</th>\n",
       "      <th>TMAX_CLIM</th>\n",
       "    </tr>\n",
       "  </thead>\n",
       "  <tbody>\n",
       "    <tr>\n",
       "      <th>0</th>\n",
       "      <td>2018</td>\n",
       "      <td>1</td>\n",
       "      <td>1</td>\n",
       "      <td>26</td>\n",
       "      <td>10</td>\n",
       "      <td>31</td>\n",
       "      <td>24</td>\n",
       "      <td>61</td>\n",
       "      <td>0.0</td>\n",
       "      <td>43.5</td>\n",
       "    </tr>\n",
       "    <tr>\n",
       "      <th>1</th>\n",
       "      <td>2018</td>\n",
       "      <td>1</td>\n",
       "      <td>2</td>\n",
       "      <td>41</td>\n",
       "      <td>5</td>\n",
       "      <td>26</td>\n",
       "      <td>31</td>\n",
       "      <td>61</td>\n",
       "      <td>0.0</td>\n",
       "      <td>43.6</td>\n",
       "    </tr>\n",
       "    <tr>\n",
       "      <th>2</th>\n",
       "      <td>2018</td>\n",
       "      <td>1</td>\n",
       "      <td>3</td>\n",
       "      <td>47</td>\n",
       "      <td>12</td>\n",
       "      <td>41</td>\n",
       "      <td>26</td>\n",
       "      <td>58</td>\n",
       "      <td>0.0</td>\n",
       "      <td>43.7</td>\n",
       "    </tr>\n",
       "    <tr>\n",
       "      <th>3</th>\n",
       "      <td>2018</td>\n",
       "      <td>1</td>\n",
       "      <td>4</td>\n",
       "      <td>51</td>\n",
       "      <td>18</td>\n",
       "      <td>47</td>\n",
       "      <td>41</td>\n",
       "      <td>63</td>\n",
       "      <td>0.0</td>\n",
       "      <td>43.8</td>\n",
       "    </tr>\n",
       "    <tr>\n",
       "      <th>4</th>\n",
       "      <td>2018</td>\n",
       "      <td>1</td>\n",
       "      <td>5</td>\n",
       "      <td>50</td>\n",
       "      <td>21</td>\n",
       "      <td>51</td>\n",
       "      <td>47</td>\n",
       "      <td>61</td>\n",
       "      <td>0.0</td>\n",
       "      <td>43.9</td>\n",
       "    </tr>\n",
       "  </tbody>\n",
       "</table>\n",
       "</div>"
      ],
      "text/plain": [
       "   YEAR  MONTH  DAY  TMAX  TMIN  TMAX_1d  TMAX_2d  TMAX_SF  PRCP  TMAX_CLIM\n",
       "0  2018      1    1    26    10       31       24       61   0.0       43.5\n",
       "1  2018      1    2    41     5       26       31       61   0.0       43.6\n",
       "2  2018      1    3    47    12       41       26       58   0.0       43.7\n",
       "3  2018      1    4    51    18       47       41       63   0.0       43.8\n",
       "4  2018      1    5    50    21       51       47       61   0.0       43.9"
      ]
     },
     "execution_count": 4,
     "metadata": {},
     "output_type": "execute_result"
    }
   ],
   "source": [
    "# Display first 5 rows\n",
    "print('The shape of our features is:', features.shape)\n",
    "features.head(5)"
   ]
  },
  {
   "cell_type": "markdown",
   "metadata": {
    "colab_type": "text",
    "id": "PXuydX9mB-PT"
   },
   "source": [
    "You will notice we have 365 days of features and labels (complete set from 2018). Our second features axis is the columns of the pandas dataframe. These columns represent the year, month, day, maximum temperature, minimum temperature, max temp from day before, max temp from two days prior, max temperature in San Francisco, precipitation, and climatological maximum. \n",
    "\n",
    "The max temperature column (TMAX) is actually our label: the observed max temperature at Fort Collins."
   ]
  },
  {
   "cell_type": "markdown",
   "metadata": {
    "colab_type": "text",
    "id": "7wwy-d38CtbZ"
   },
   "source": [
    "We can look quickly at some basic statistics of our data, such as mean, standard deviation, percentiles, etc. in a table format"
   ]
  },
  {
   "cell_type": "code",
   "execution_count": 5,
   "metadata": {
    "colab": {
     "base_uri": "https://localhost:8080/",
     "height": 277
    },
    "colab_type": "code",
    "executionInfo": {
     "elapsed": 1475,
     "status": "ok",
     "timestamp": 1581354303083,
     "user": {
      "displayName": "Aaron Hill",
      "photoUrl": "https://lh3.googleusercontent.com/a-/AAuE7mBOiK0lDpxr-Hmn-7HLxfm-CEk8-5rap_IAkUqo=s64",
      "userId": "08603993931866878240"
     },
     "user_tz": 420
    },
    "id": "yZSlkf1u2ZyU",
    "outputId": "9135b036-1d9c-48f2-9533-e6bdfd4de1cb"
   },
   "outputs": [
    {
     "data": {
      "text/html": [
       "<div>\n",
       "<style scoped>\n",
       "    .dataframe tbody tr th:only-of-type {\n",
       "        vertical-align: middle;\n",
       "    }\n",
       "\n",
       "    .dataframe tbody tr th {\n",
       "        vertical-align: top;\n",
       "    }\n",
       "\n",
       "    .dataframe thead th {\n",
       "        text-align: right;\n",
       "    }\n",
       "</style>\n",
       "<table border=\"1\" class=\"dataframe\">\n",
       "  <thead>\n",
       "    <tr style=\"text-align: right;\">\n",
       "      <th></th>\n",
       "      <th>YEAR</th>\n",
       "      <th>MONTH</th>\n",
       "      <th>DAY</th>\n",
       "      <th>TMAX</th>\n",
       "      <th>TMIN</th>\n",
       "      <th>TMAX_1d</th>\n",
       "      <th>TMAX_2d</th>\n",
       "      <th>TMAX_SF</th>\n",
       "      <th>PRCP</th>\n",
       "      <th>TMAX_CLIM</th>\n",
       "    </tr>\n",
       "  </thead>\n",
       "  <tbody>\n",
       "    <tr>\n",
       "      <th>count</th>\n",
       "      <td>365.0</td>\n",
       "      <td>365.000000</td>\n",
       "      <td>365.000000</td>\n",
       "      <td>365.000000</td>\n",
       "      <td>365.000000</td>\n",
       "      <td>365.000000</td>\n",
       "      <td>365.000000</td>\n",
       "      <td>365.000000</td>\n",
       "      <td>365.000000</td>\n",
       "      <td>365.000000</td>\n",
       "    </tr>\n",
       "    <tr>\n",
       "      <th>mean</th>\n",
       "      <td>2018.0</td>\n",
       "      <td>6.526027</td>\n",
       "      <td>15.720548</td>\n",
       "      <td>65.652055</td>\n",
       "      <td>37.389041</td>\n",
       "      <td>65.627397</td>\n",
       "      <td>65.564384</td>\n",
       "      <td>63.904110</td>\n",
       "      <td>0.037260</td>\n",
       "      <td>63.738356</td>\n",
       "    </tr>\n",
       "    <tr>\n",
       "      <th>std</th>\n",
       "      <td>0.0</td>\n",
       "      <td>3.452584</td>\n",
       "      <td>8.808321</td>\n",
       "      <td>18.372280</td>\n",
       "      <td>16.232409</td>\n",
       "      <td>18.412798</td>\n",
       "      <td>18.515789</td>\n",
       "      <td>6.004038</td>\n",
       "      <td>0.147239</td>\n",
       "      <td>15.407528</td>\n",
       "    </tr>\n",
       "    <tr>\n",
       "      <th>min</th>\n",
       "      <td>2018.0</td>\n",
       "      <td>1.000000</td>\n",
       "      <td>1.000000</td>\n",
       "      <td>15.000000</td>\n",
       "      <td>-3.000000</td>\n",
       "      <td>15.000000</td>\n",
       "      <td>15.000000</td>\n",
       "      <td>51.000000</td>\n",
       "      <td>0.000000</td>\n",
       "      <td>42.100000</td>\n",
       "    </tr>\n",
       "    <tr>\n",
       "      <th>25%</th>\n",
       "      <td>2018.0</td>\n",
       "      <td>4.000000</td>\n",
       "      <td>8.000000</td>\n",
       "      <td>50.000000</td>\n",
       "      <td>24.000000</td>\n",
       "      <td>50.000000</td>\n",
       "      <td>50.000000</td>\n",
       "      <td>60.000000</td>\n",
       "      <td>0.000000</td>\n",
       "      <td>48.100000</td>\n",
       "    </tr>\n",
       "    <tr>\n",
       "      <th>50%</th>\n",
       "      <td>2018.0</td>\n",
       "      <td>7.000000</td>\n",
       "      <td>16.000000</td>\n",
       "      <td>65.000000</td>\n",
       "      <td>37.000000</td>\n",
       "      <td>65.000000</td>\n",
       "      <td>65.000000</td>\n",
       "      <td>63.000000</td>\n",
       "      <td>0.000000</td>\n",
       "      <td>63.000000</td>\n",
       "    </tr>\n",
       "    <tr>\n",
       "      <th>75%</th>\n",
       "      <td>2018.0</td>\n",
       "      <td>10.000000</td>\n",
       "      <td>23.000000</td>\n",
       "      <td>82.000000</td>\n",
       "      <td>52.000000</td>\n",
       "      <td>82.000000</td>\n",
       "      <td>82.000000</td>\n",
       "      <td>67.000000</td>\n",
       "      <td>0.000000</td>\n",
       "      <td>78.500000</td>\n",
       "    </tr>\n",
       "    <tr>\n",
       "      <th>max</th>\n",
       "      <td>2018.0</td>\n",
       "      <td>12.000000</td>\n",
       "      <td>31.000000</td>\n",
       "      <td>101.000000</td>\n",
       "      <td>68.000000</td>\n",
       "      <td>101.000000</td>\n",
       "      <td>101.000000</td>\n",
       "      <td>83.000000</td>\n",
       "      <td>1.740000</td>\n",
       "      <td>87.100000</td>\n",
       "    </tr>\n",
       "  </tbody>\n",
       "</table>\n",
       "</div>"
      ],
      "text/plain": [
       "         YEAR       MONTH         DAY        TMAX        TMIN     TMAX_1d  \\\n",
       "count   365.0  365.000000  365.000000  365.000000  365.000000  365.000000   \n",
       "mean   2018.0    6.526027   15.720548   65.652055   37.389041   65.627397   \n",
       "std       0.0    3.452584    8.808321   18.372280   16.232409   18.412798   \n",
       "min    2018.0    1.000000    1.000000   15.000000   -3.000000   15.000000   \n",
       "25%    2018.0    4.000000    8.000000   50.000000   24.000000   50.000000   \n",
       "50%    2018.0    7.000000   16.000000   65.000000   37.000000   65.000000   \n",
       "75%    2018.0   10.000000   23.000000   82.000000   52.000000   82.000000   \n",
       "max    2018.0   12.000000   31.000000  101.000000   68.000000  101.000000   \n",
       "\n",
       "          TMAX_2d     TMAX_SF        PRCP   TMAX_CLIM  \n",
       "count  365.000000  365.000000  365.000000  365.000000  \n",
       "mean    65.564384   63.904110    0.037260   63.738356  \n",
       "std     18.515789    6.004038    0.147239   15.407528  \n",
       "min     15.000000   51.000000    0.000000   42.100000  \n",
       "25%     50.000000   60.000000    0.000000   48.100000  \n",
       "50%     65.000000   63.000000    0.000000   63.000000  \n",
       "75%     82.000000   67.000000    0.000000   78.500000  \n",
       "max    101.000000   83.000000    1.740000   87.100000  "
      ]
     },
     "execution_count": 5,
     "metadata": {},
     "output_type": "execute_result"
    }
   ],
   "source": [
    "# A handy tool in pandas: descriptive statistics for each column\n",
    "features.describe()"
   ]
  },
  {
   "cell_type": "markdown",
   "metadata": {
    "colab_type": "text",
    "id": "SfiUkqp6C-co"
   },
   "source": [
    "We have made it so that there is not much to clean up in this dataset...however you may run into a scenario where days are missing, values are missing, etc. wherein you need to remove bad features, labels, or examples (i.e., days of observations). It is often said that 80% of machine learning is the preprocessing of your data. \n"
   ]
  },
  {
   "cell_type": "markdown",
   "metadata": {
    "colab_type": "text",
    "id": "6vLWjiNs4OB7"
   },
   "source": [
    "### 1.2 Targets and features"
   ]
  },
  {
   "cell_type": "markdown",
   "metadata": {
    "colab_type": "text",
    "id": "WsaFBLnKDPbK"
   },
   "source": [
    "The pandas table is handy for a quick glance, but we need to organize some numpy arrays that separately contain our features and labels."
   ]
  },
  {
   "cell_type": "code",
   "execution_count": 6,
   "metadata": {
    "colab": {},
    "colab_type": "code",
    "id": "dlt6GqYwhgnV"
   },
   "outputs": [],
   "source": [
    "# Labels are the values we want to predict\n",
    "labels = np.array(features['TMAX'])\n",
    "\n",
    "# Remove the labels from the features\n",
    "# axis 1 refers to the columns\n",
    "features = features.drop('TMAX', axis = 1)\n",
    "\n",
    "# Saving feature names for later use\n",
    "feature_list = list(features.columns)\n",
    "\n",
    "# Convert to numpy array\n",
    "features = np.array(features)"
   ]
  },
  {
   "cell_type": "markdown",
   "metadata": {
    "colab_type": "text",
    "id": "8pRuZk-AhjAP"
   },
   "source": [
    "### 1.3 Splitting training and testing datasets"
   ]
  },
  {
   "cell_type": "markdown",
   "metadata": {
    "colab_type": "text",
    "id": "95YMbR1YDcqT"
   },
   "source": [
    "Assuming we have no feature data available from 2019 we could use to test our trained models against, we will want to split up our dataset into training and testing portions. A standard proportion is 3/4 for training, 1/4 for testing, although this is somewhat arbitrary here. "
   ]
  },
  {
   "cell_type": "code",
   "execution_count": 7,
   "metadata": {
    "colab": {},
    "colab_type": "code",
    "id": "ggg3rkEphk2N"
   },
   "outputs": [],
   "source": [
    "# Split the data into training, validation and testing sets\n",
    "\n",
    "# Tunable Parameter \"split_size\": Describes the proportion of the dataset we want to use for \n",
    "#      testing/training/validation. \n",
    "#      do not modify.\n",
    "split_size = 0.2    \n",
    "\n",
    "# PARAMETERS:\n",
    "#     test_size: fraction of testing/validation datasets\n",
    "#     random_state: random parameter\n",
    "#     do not modify.\n",
    "# train_features, test_features, train_labels, test_labels = train_test_split(features, labels, test_size = split_size, random_state = 42)\n",
    "# val_features, test_features, val_labels, test_labels     = train_test_split(test_features, test_labels, test_size = .5, random_state = 42)\n",
    "\n",
    "i = np.where(np.isin(features[:,1],(2,11))==False)[0]\n",
    "train_features = features[i,:]\n",
    "train_labels = labels[i]\n",
    "train_features, val_features, train_labels, val_labels = train_test_split(train_features, train_labels, test_size = split_size, random_state = 42)\n",
    "\n",
    "i = np.where(np.isin(features[:,1],(2,11))==True)[0]\n",
    "test_features = features[i,:]\n",
    "test_labels = labels[i]"
   ]
  },
  {
   "cell_type": "markdown",
   "metadata": {
    "colab_type": "text",
    "id": "SfMNcTlSD7sn"
   },
   "source": [
    "Lets quickly check the size of our training and testing arrays are what we expect (and we didn't do something wrong)"
   ]
  },
  {
   "cell_type": "code",
   "execution_count": 8,
   "metadata": {
    "colab": {
     "base_uri": "https://localhost:8080/",
     "height": 82
    },
    "colab_type": "code",
    "executionInfo": {
     "elapsed": 182,
     "status": "ok",
     "timestamp": 1581354346686,
     "user": {
      "displayName": "Aaron Hill",
      "photoUrl": "https://lh3.googleusercontent.com/a-/AAuE7mBOiK0lDpxr-Hmn-7HLxfm-CEk8-5rap_IAkUqo=s64",
      "userId": "08603993931866878240"
     },
     "user_tz": 420
    },
    "id": "ZHsogVIIhm5X",
    "outputId": "65510706-64b0-47cb-fdde-ff054d7626a6"
   },
   "outputs": [
    {
     "name": "stdout",
     "output_type": "stream",
     "text": [
      "Training Features Shape: (245, 9)\n",
      "Training Labels Shape: (245,)\n",
      "Validation Features Shape: (62, 9)\n",
      "Validation Labels Shape: (62,)\n",
      "Testing Features Shape: (58, 9)\n",
      "Testing Labels Shape: (58,)\n"
     ]
    }
   ],
   "source": [
    "print('Training Features Shape:', train_features.shape)\n",
    "print('Training Labels Shape:', train_labels.shape)\n",
    "print('Validation Features Shape:', val_features.shape)\n",
    "print('Validation Labels Shape:', val_labels.shape)\n",
    "print('Testing Features Shape:', test_features.shape)\n",
    "print('Testing Labels Shape:', test_labels.shape)"
   ]
  },
  {
   "cell_type": "markdown",
   "metadata": {
    "colab_type": "text",
    "id": "PmnUiJhK4pQm"
   },
   "source": [
    "# 2. Playing with model"
   ]
  },
  {
   "cell_type": "markdown",
   "metadata": {
    "colab_type": "text",
    "id": "T3e98qy3EFiw"
   },
   "source": [
    "OK, our data is now split up into features and labels, as well as training and testing chunks. Now we will work to train and evaluate our model.\n",
    "\n",
    "First, we need to know what our baseline skill is. Often, climatology is used and we will do just that, taking the climatological high temperature from the test features and evaluating it against the test labels"
   ]
  },
  {
   "cell_type": "markdown",
   "metadata": {
    "colab_type": "text",
    "id": "KBGjm_YfhrFa"
   },
   "source": [
    "### 2.1 Establish Baseline"
   ]
  },
  {
   "cell_type": "code",
   "execution_count": 9,
   "metadata": {
    "colab": {
     "base_uri": "https://localhost:8080/",
     "height": 50
    },
    "colab_type": "code",
    "executionInfo": {
     "elapsed": 341,
     "status": "ok",
     "timestamp": 1581354348157,
     "user": {
      "displayName": "Aaron Hill",
      "photoUrl": "https://lh3.googleusercontent.com/a-/AAuE7mBOiK0lDpxr-Hmn-7HLxfm-CEk8-5rap_IAkUqo=s64",
      "userId": "08603993931866878240"
     },
     "user_tz": 420
    },
    "id": "noqg8gJBhr9T",
    "outputId": "97ae2368-1ec1-4b6c-c684-e7379dcd2001"
   },
   "outputs": [
    {
     "name": "stdout",
     "output_type": "stream",
     "text": [
      "\n",
      "--------------------------------------------\n",
      "Validation Baseline error (MAE):  8.09\n",
      "--------------------------------------------\n",
      "\n"
     ]
    },
    {
     "data": {
      "image/png": "[encoded data removed]",
      "text/plain": [
       "<Figure size 864x432 with 1 Axes>"
      ]
     },
     "metadata": {
      "needs_background": "light"
     },
     "output_type": "display_data"
    }
   ],
   "source": [
    "# You need a baseline to quantify whether the model is useful\n",
    "\n",
    "# The baseline predictions here are the climatological values\n",
    "# Grab all rows for the 'TMAX_CLIM' column\n",
    "baseline_preds = val_features[:, feature_list.index('TMAX_CLIM')]\n",
    "\n",
    "# Baseline errors (mean absolute errors)\n",
    "mae_baseline_errors = abs(baseline_preds - val_labels)\n",
    "print('\\n--------------------------------------------')\n",
    "print('Validation Baseline error (MAE): ', round(np.mean(mae_baseline_errors), 2))\n",
    "print('--------------------------------------------\\n')\n",
    "\n",
    "# -------------------------------\n",
    "# Visualize the baseline\n",
    "\n",
    "# plot the figure\n",
    "plt.figure(figsize=(12,6))\n",
    "plot_time_series(features, feature_list, labels, val_features, baseline_preds)\n",
    "plt.title('BASELINE PREDICTIONS you should be able to beat')\n",
    "plt.show()"
   ]
  },
  {
   "cell_type": "markdown",
   "metadata": {
    "colab_type": "text",
    "id": "1tXyAv3cE44l"
   },
   "source": [
    "Subjectively, these errors seem quite high, but as one might expect when trying to predict high temperatures from climatology. I think we can improve upon this with a RF model"
   ]
  },
  {
   "cell_type": "markdown",
   "metadata": {
    "colab_type": "text",
    "id": "cpPHSkx3huwy"
   },
   "source": [
    "### 2.2 Train model"
   ]
  },
  {
   "cell_type": "markdown",
   "metadata": {
    "colab_type": "text",
    "id": "mbua1xNdbm3M"
   },
   "source": [
    "As mentioned in the slides, there are a number of hyperparameters for RF models that we can tweak and tune to make the model perform better. We will start with a base set of hyperparameters that are defaults for the RF regression model in scikit-learn. "
   ]
  },
  {
   "cell_type": "code",
   "execution_count": 10,
   "metadata": {
    "colab": {},
    "colab_type": "code",
    "id": "iJx8TDwJhvqm"
   },
   "outputs": [
    {
     "data": {
      "text/plain": [
       "RandomForestRegressor(criterion='mae', max_depth=2, n_estimators=3,\n",
       "                      random_state=42)"
      ]
     },
     "execution_count": 10,
     "metadata": {},
     "output_type": "execute_result"
    }
   ],
   "source": [
    "#----------------------------------------------------------------------------------------\n",
    "# MODIFY: important tunable parameters for model\n",
    "number_of_trees = 3  # number of trees to \"average\" together to create a random forest\n",
    "tree_depth = 2       # maximum depth allowed for each tree\n",
    "node_split = 2       # minimum number of training samples needed to split a node\n",
    "leaf_samples = 1     # minimum number of training samples required to make a leaf node\n",
    "criterion = 'mae'    # variance reduction, alternatively 'mse'\n",
    "bootstrap = True     # whether to perform \"bagging=bootstrap aggregating\" or not\n",
    "max_samples = None   # number of samples to grab when training each tree IF bootstrap=True\n",
    "RAND_STATE = 42\n",
    "#----------------------------------------------------------------------------------------\n",
    "\n",
    "# Instantiate model with number of decision trees prescribed above\n",
    "# PARAMETERS:\n",
    "#     n_estimators: number of trees/ensemble members\n",
    "#     random_state: random seed\n",
    "#     max_depth: maximum depth of each tree\n",
    "#     criterion: evaluation statistic to split a mode, 'mse'  or 'mae'\n",
    "#     min_samples_split: minimum number of samples needed to split a node\n",
    "#     min_samples_leaf: minimum number of samples needed to make a leaf\n",
    "#     for more, see: https://scikit-learn.org/stable/modules/generated/sklearn.ensemble.RandomForestRegressor.html#sklearn.ensemble.RandomForestRegressor\n",
    "rf = RandomForestRegressor(n_estimators = number_of_trees, \n",
    "                           random_state = RAND_STATE,\n",
    "                           min_samples_split = node_split,\n",
    "                           min_samples_leaf = leaf_samples,\n",
    "                           criterion = criterion,\n",
    "                           max_depth = tree_depth)\n",
    "\n",
    "# Train the model on training data\n",
    "rf.fit(train_features, train_labels)"
   ]
  },
  {
   "cell_type": "markdown",
   "metadata": {
    "colab_type": "text",
    "id": "FihfSUPbcBmr"
   },
   "source": [
    "Just a handful of lines of code to train the model. Easy peasy. Now lets make some predictions from our model"
   ]
  },
  {
   "cell_type": "markdown",
   "metadata": {
    "colab_type": "text",
    "id": "S0_gSkHrhySe"
   },
   "source": [
    "### 2.3 Make predictions and visualize the performance"
   ]
  },
  {
   "cell_type": "code",
   "execution_count": 11,
   "metadata": {
    "colab": {
     "base_uri": "https://localhost:8080/",
     "height": 82
    },
    "colab_type": "code",
    "executionInfo": {
     "elapsed": 420,
     "status": "ok",
     "timestamp": 1581354350131,
     "user": {
      "displayName": "Aaron Hill",
      "photoUrl": "https://lh3.googleusercontent.com/a-/AAuE7mBOiK0lDpxr-Hmn-7HLxfm-CEk8-5rap_IAkUqo=s64",
      "userId": "08603993931866878240"
     },
     "user_tz": 420
    },
    "id": "nj7-Y8xShz3C",
    "outputId": "df36fe30-170d-4b2b-e915-7376080b4389"
   },
   "outputs": [
    {
     "name": "stdout",
     "output_type": "stream",
     "text": [
      "\n",
      "--------------------------------------------\n",
      "    Actual Training Error (MAE):  5.88\n",
      "  Actual Validation Error (MAE):  8.45\n",
      "Validation Baseline error (MAE):  8.09\n",
      "--------------------------------------------\n",
      "\n"
     ]
    },
    {
     "data": {
      "image/png": "[encoded data removed]",
      "text/plain": [
       "<Figure size 864x432 with 1 Axes>"
      ]
     },
     "metadata": {
      "needs_background": "light"
     },
     "output_type": "display_data"
    }
   ],
   "source": [
    "# Use the model to predict the validation set\n",
    "predictions = rf.predict(val_features)\n",
    "predictions_train = rf.predict(train_features)\n",
    "\n",
    "# Use the validation set to validate the performance\n",
    "# Print out the mean absolute error (MAE)\n",
    "mae_errors = abs(predictions - val_labels)\n",
    "mae_errors_train = abs(predictions_train - train_labels)\n",
    "\n",
    "print('\\n--------------------------------------------')\n",
    "print('    Actual Training Error (MAE): ', round(np.mean(mae_errors_train), 2))\n",
    "print('  Actual Validation Error (MAE): ', round(np.mean(mae_errors), 2))\n",
    "print('Validation Baseline error (MAE): ', round(np.mean(mae_baseline_errors), 2))\n",
    "print('--------------------------------------------\\n')\n",
    "\n",
    "# -------------------------------\n",
    "# Visualize the predictions\n",
    "\n",
    "# make the predictions\n",
    "predictions = rf.predict(val_features)\n",
    "\n",
    "# plot the figure\n",
    "plt.figure(figsize=(12,6))\n",
    "plot_time_series(features, feature_list, labels, val_features, predictions)\n",
    "plt.title('NEURAL NETWORK PREDICTIONS of your current ANN')\n",
    "plt.show()"
   ]
  },
  {
   "cell_type": "code",
   "execution_count": 12,
   "metadata": {},
   "outputs": [],
   "source": [
    "# # -------------------------------\n",
    "# # DO NOT UNCOMMENT THIS CELL OR YOU WILL BE CHEATING\n",
    "# # -------------------------------\n",
    "\n",
    "# # Use the model to predict the test data\n",
    "# predictions = rf.predict(test_features)\n",
    "\n",
    "# # Use testing set to validate the performance\n",
    "# # Print out the mean absolute error (MAE)\n",
    "# mae_errors = abs(predictions - test_labels)\n",
    "# print('\\n******************')\n",
    "# print('Testing Error (MAE): ', round(np.mean(mae_errors), 2))\n",
    "# print('******************\\n')\n",
    "\n",
    "# # plot the figure\n",
    "# plt.figure(figsize=(12,6))\n",
    "# plot_time_series(features, feature_list, labels, test_features, predictions)\n",
    "# plt.title('TESTING RESULTS')\n",
    "# plt.show()"
   ]
  },
  {
   "cell_type": "markdown",
   "metadata": {
    "colab_type": "text",
    "id": "hfwo6cnIh_Zz"
   },
   "source": [
    "# VISUALIZATION TECHNIQUES"
   ]
  },
  {
   "cell_type": "markdown",
   "metadata": {
    "colab_type": "text",
    "id": "8Lis4L4iiJUY"
   },
   "source": [
    "### 3.2 Feature Importances"
   ]
  },
  {
   "cell_type": "markdown",
   "metadata": {
    "colab_type": "text",
    "id": "hC1hfqdGuceB"
   },
   "source": [
    "First we will look at Impurity Importance, which is built into Scikit-learn. "
   ]
  },
  {
   "cell_type": "code",
   "execution_count": 13,
   "metadata": {
    "colab": {},
    "colab_type": "code",
    "id": "OgqSVpwwiJ_n"
   },
   "outputs": [],
   "source": [
    "def calc_importances(rf, feature_list):\n",
    "\n",
    "    # Get numerical feature importances\n",
    "    importances = list(rf.feature_importances_)\n",
    "\n",
    "    # List of tuples with variable and importance\n",
    "    feature_importances = [(feature, round(importance, 2)) for feature, importance in zip(feature_list, importances)]\n",
    "\n",
    "    # Sort the feature importances by most important first\n",
    "    feature_importances = sorted(feature_importances, key = lambda x: x[1], reverse = True)\n",
    "\n",
    "    # Print out the feature and importances \n",
    "    print('')\n",
    "    [print('Variable: {:20} Importance: {}'.format(*pair)) for pair in feature_importances];\n",
    "    print('')\n",
    "    \n",
    "    return importances"
   ]
  },
  {
   "cell_type": "code",
   "execution_count": 14,
   "metadata": {
    "colab": {},
    "colab_type": "code",
    "id": "SwggdvM7iR4T"
   },
   "outputs": [],
   "source": [
    "def plot_feat_importances(importances, feature_list): \n",
    "    plt.figure()\n",
    "    # Set the style\n",
    "    plt.style.use('fivethirtyeight')\n",
    "    # list of x locations for plotting\n",
    "    x_values = list(range(len(importances)))\n",
    "    # Make a bar chart\n",
    "    plt.barh(x_values, importances)\n",
    "    # Tick labels for x axis\n",
    "    plt.yticks(x_values, feature_list)\n",
    "    # Axis labels and title\n",
    "    plt.xlabel('Importance'); plt.ylabel('Variable'); plt.title('Variable Importances')"
   ]
  },
  {
   "cell_type": "code",
   "execution_count": 15,
   "metadata": {
    "colab": {
     "base_uri": "https://localhost:8080/",
     "height": 455
    },
    "colab_type": "code",
    "executionInfo": {
     "elapsed": 390,
     "status": "ok",
     "timestamp": 1581354387591,
     "user": {
      "displayName": "Aaron Hill",
      "photoUrl": "https://lh3.googleusercontent.com/a-/AAuE7mBOiK0lDpxr-Hmn-7HLxfm-CEk8-5rap_IAkUqo=s64",
      "userId": "08603993931866878240"
     },
     "user_tz": 420
    },
    "id": "v0Yts2qH-lNP",
    "outputId": "afed5b50-0a8b-424b-cb9d-1134ef4bf2c8"
   },
   "outputs": [
    {
     "name": "stdout",
     "output_type": "stream",
     "text": [
      "\n",
      "Variable: TMIN                 Importance: 0.49\n",
      "Variable: TMAX_CLIM            Importance: 0.3\n",
      "Variable: TMAX_1d              Importance: 0.21\n",
      "Variable: YEAR                 Importance: 0.0\n",
      "Variable: MONTH                Importance: 0.0\n",
      "Variable: DAY                  Importance: 0.0\n",
      "Variable: TMAX_2d              Importance: 0.0\n",
      "Variable: TMAX_SF              Importance: 0.0\n",
      "Variable: PRCP                 Importance: 0.0\n",
      "\n"
     ]
    },
    {
     "data": {
      "image/png": "[encoded data removed]",
      "text/plain": [
       "<Figure size 432x288 with 1 Axes>"
      ]
     },
     "metadata": {
      "needs_background": "light"
     },
     "output_type": "display_data"
    }
   ],
   "source": [
    "plot_feat_importances(calc_importances(rf, feature_list), feature_list)"
   ]
  },
  {
   "cell_type": "markdown",
   "metadata": {
    "colab_type": "text",
    "id": "6T6E9ZRi_qQW"
   },
   "source": [
    "### 3.3 Permutation Importances"
   ]
  },
  {
   "cell_type": "code",
   "execution_count": 16,
   "metadata": {
    "colab": {},
    "colab_type": "code",
    "id": "WOuejg730XhZ"
   },
   "outputs": [],
   "source": [
    "# Single-pass permutation\n",
    "permute = permutation_importance(rf, val_features, val_labels, n_repeats=10, \n",
    "                                 random_state=RAND_STATE)\n",
    "\n",
    "# Sort the importances\n",
    "sorted_idx = permute.importances_mean.argsort()"
   ]
  },
  {
   "cell_type": "markdown",
   "metadata": {
    "colab_type": "text",
    "id": "x5RIkCKO1KPE"
   },
   "source": [
    "First, lets look at what is most important in the validation set"
   ]
  },
  {
   "cell_type": "code",
   "execution_count": 17,
   "metadata": {
    "colab": {},
    "colab_type": "code",
    "id": "GiXCBDcz0lJN"
   },
   "outputs": [],
   "source": [
    "def plot_perm_importances(permute, sorted_idx, feature_list):\n",
    "    # Sort the feature list based on \n",
    "    \n",
    "    new_feature_list = []\n",
    "    for index in sorted_idx:  \n",
    "        new_feature_list.append(feature_list[index])\n",
    "\n",
    "    fig, ax = plt.subplots()\n",
    "    ax.boxplot(permute.importances[sorted_idx].T,\n",
    "           vert=False, labels=new_feature_list)\n",
    "    ax.set_title(\"Permutation Importances\")\n",
    "    fig.tight_layout()"
   ]
  },
  {
   "cell_type": "code",
   "execution_count": 18,
   "metadata": {
    "colab": {
     "base_uri": "https://localhost:8080/",
     "height": 288
    },
    "colab_type": "code",
    "executionInfo": {
     "elapsed": 770,
     "status": "ok",
     "timestamp": 1581354929462,
     "user": {
      "displayName": "Aaron Hill",
      "photoUrl": "https://lh3.googleusercontent.com/a-/AAuE7mBOiK0lDpxr-Hmn-7HLxfm-CEk8-5rap_IAkUqo=s64",
      "userId": "08603993931866878240"
     },
     "user_tz": 420
    },
    "id": "SGEnl3ih_VTI",
    "outputId": "f86955f5-21f0-41a6-8700-b111975c9377"
   },
   "outputs": [
    {
     "data": {
      "image/png": "[encoded data removed]",
      "text/plain": [
       "<Figure size 432x288 with 1 Axes>"
      ]
     },
     "metadata": {},
     "output_type": "display_data"
    }
   ],
   "source": [
    "plot_perm_importances(permute, sorted_idx, feature_list)"
   ]
  },
  {
   "cell_type": "markdown",
   "metadata": {},
   "source": [
    "### Save the random forest architecture to png in your Google Drive"
   ]
  },
  {
   "cell_type": "markdown",
   "metadata": {
    "colab_type": "text",
    "id": "Sfs0dlRRiCWy"
   },
   "source": [
    "Visualizing a Single Decision Tree"
   ]
  },
  {
   "cell_type": "code",
   "execution_count": 19,
   "metadata": {},
   "outputs": [],
   "source": [
    "# Make the path of your own Google Drive accessible to save a figure\n",
    "if IN_COLAB:\n",
    "    from google.colab import drive\n",
    "    drive.mount('/content/drive', force_remount=True)\n",
    "    local_path = '/content/drive/My Drive'\n",
    "else:\n",
    "    local_path = 'figures/'"
   ]
  },
  {
   "cell_type": "code",
   "execution_count": 20,
   "metadata": {},
   "outputs": [],
   "source": [
    "fig_savename = 'TMAX_tree'\n",
    "tree = rf[-1]\n",
    "\n",
    "export_graphviz(tree,\n",
    "                out_file=local_path + '/' + fig_savename+'.dot',\n",
    "                filled=True,\n",
    "                proportion=False,\n",
    "                rounded=True,\n",
    "                leaves_parallel=False,\n",
    "                feature_names=feature_list)\n",
    "\n",
    "# Use dot file to create a graph to write to a png\n",
    "(graph, ) = pydot.graph_from_dot_file(local_path + '/' + fig_savename + '.dot')\n",
    "graph.write_png(local_path + '/' + fig_savename + '.png')\n"
   ]
  },
  {
   "cell_type": "markdown",
   "metadata": {},
   "source": [
    "![Decision Tree](/content/drive/My Drive/TMAX_tree.png)"
   ]
  },
  {
   "cell_type": "code",
   "execution_count": null,
   "metadata": {},
   "outputs": [],
   "source": []
  }
 ],
 "metadata": {
  "colab": {
   "collapsed_sections": [],
   "name": "RF_example.ipynb",
   "provenance": []
  },
  "kernelspec": {
   "display_name": "Python 3",
   "language": "python",
   "name": "python3"
  },
  "language_info": {
   "codemirror_mode": {
    "name": "ipython",
    "version": 3
   },
   "file_extension": ".py",
   "mimetype": "text/x-python",
   "name": "python",
   "nbconvert_exporter": "python",
   "pygments_lexer": "ipython3",
   "version": "3.7.9"
  }
 },
 "nbformat": 4,
 "nbformat_minor": 4
}
